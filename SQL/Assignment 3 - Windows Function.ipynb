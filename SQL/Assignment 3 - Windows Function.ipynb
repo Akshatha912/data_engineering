{
 "cells": [
  {
   "cell_type": "code",
   "execution_count": 0,
   "metadata": {
    "application/vnd.databricks.v1+cell": {
     "cellMetadata": {
      "byteLimit": 2048000,
      "implicitDf": true,
      "rowLimit": 10000
     },
     "inputWidgets": {},
     "nuid": "fb82a00a-5d5d-49b6-83a2-7f6628829f27",
     "showTitle": false,
     "tableResultSettingsMap": {},
     "title": ""
    }
   },
   "outputs": [],
   "source": [
    "%sql\n",
    "CREATE TABLE employee_sales(\n",
    "  emp_id STRING,\n",
    "  emp_name VARCHAR(50),\n",
    "  sale_amount int,\n",
    "  dept VARCHAR(50),\n",
    "  sale_date DATE\n",
    ")"
   ]
  },
  {
   "cell_type": "code",
   "execution_count": 0,
   "metadata": {
    "application/vnd.databricks.v1+cell": {
     "cellMetadata": {
      "byteLimit": 2048000,
      "implicitDf": true,
      "rowLimit": 10000
     },
     "inputWidgets": {},
     "nuid": "82ba6c47-b156-4738-aa22-ccba61f4e388",
     "showTitle": false,
     "tableResultSettingsMap": {},
     "title": ""
    }
   },
   "outputs": [],
   "source": [
    "%sql\n",
    "INSERT INTO employee_sales VALUES\n",
    "('E101', 'Ankit', 5000, 'Fashion', '2023-10-01'),\n",
    "('E102', 'Priya', 8000, 'Fashion', '2023-01-10'),\n",
    "('E103', 'Ravi', 7000, 'Electronics', '2023-02-10'),\n",
    "('E104', 'Ankit', 6000, 'Fashion', '2023-03-10')"
   ]
  },
  {
   "cell_type": "code",
   "execution_count": 0,
   "metadata": {
    "application/vnd.databricks.v1+cell": {
     "cellMetadata": {
      "byteLimit": 2048000,
      "implicitDf": true,
      "rowLimit": 10000
     },
     "inputWidgets": {},
     "nuid": "1864dd4f-5811-47ce-a8e5-2f1fadfc1bc1",
     "showTitle": false,
     "tableResultSettingsMap": {},
     "title": ""
    }
   },
   "outputs": [],
   "source": [
    "%sql\n",
    "--window function to assign rank of employees by sale_amount within each dept\n",
    "SELECT emp_name, sale_amount, dept, \n",
    "RANK() OVER(ORDER BY sale_amount, dept) AS rank\n",
    "FROM employee_sales"
   ]
  },
  {
   "cell_type": "code",
   "execution_count": 0,
   "metadata": {
    "application/vnd.databricks.v1+cell": {
     "cellMetadata": {
      "byteLimit": 2048000,
      "rowLimit": 10000
     },
     "inputWidgets": {},
     "nuid": "cba44beb-eb83-4a1b-a821-ebb0437b51a5",
     "showTitle": false,
     "tableResultSettingsMap": {},
     "title": ""
    }
   },
   "outputs": [],
   "source": [
    "--running total of sales for each employee\n",
    "SELECT emp_name, sale_amount,\n",
    "SUM(sale_amount) OVER(ORDER BY sale_amount) as running_total\n",
    "FROM employee_sales"
   ]
  },
  {
   "cell_type": "code",
   "execution_count": 0,
   "metadata": {
    "application/vnd.databricks.v1+cell": {
     "cellMetadata": {},
     "inputWidgets": {},
     "nuid": "4939bf46-ec7e-4e56-96ff-c3f58f3a115b",
     "showTitle": false,
     "tableResultSettingsMap": {},
     "title": ""
    }
   },
   "outputs": [],
   "source": []
  }
 ],
 "metadata": {
  "application/vnd.databricks.v1+notebook": {
   "computePreferences": null,
   "dashboards": [],
   "environmentMetadata": {
    "base_environment": "",
    "environment_version": "2"
   },
   "inputWidgetPreferences": null,
   "language": "sql",
   "notebookMetadata": {
    "mostRecentlyExecutedCommandWithImplicitDF": {
     "commandId": 7121014217405415,
     "dataframes": [
      "_sqldf"
     ]
    },
    "pythonIndentUnit": 4
   },
   "notebookName": "Assignment 3 - Windows Function",
   "widgets": {}
  },
  "language_info": {
   "name": "sql"
  }
 },
 "nbformat": 4,
 "nbformat_minor": 0
}
