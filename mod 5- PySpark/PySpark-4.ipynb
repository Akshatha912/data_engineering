{
 "cells": [
  {
   "cell_type": "markdown",
   "metadata": {
    "application/vnd.databricks.v1+cell": {
     "cellMetadata": {},
     "inputWidgets": {},
     "nuid": "e1b0f9fa-f8ec-4566-8fd6-51a65023c21d",
     "showTitle": false,
     "tableResultSettingsMap": {},
     "title": ""
    }
   },
   "source": [
    "1. What is Delta Lake?\n",
    "\n",
    "Key Concepts to Teach:\n",
    "\n",
    "Built on top of Parquet\n",
    "Supports ACID, schema enforcement, versioning\n",
    "Works best on Databricks and supports MERGE, UPDATE, DELETE\n"
   ]
  },
  {
   "cell_type": "code",
   "execution_count": 0,
   "metadata": {
    "application/vnd.databricks.v1+cell": {
     "cellMetadata": {
      "byteLimit": 2048000,
      "rowLimit": 10000
     },
     "inputWidgets": {},
     "nuid": "93ac5384-e968-45ea-b5d6-1ebafadad4eb",
     "showTitle": false,
     "tableResultSettingsMap": {},
     "title": ""
    }
   },
   "outputs": [],
   "source": [
    "data = [(\"101\", \"Alice\", \"2023-11-01\", 1000), (\"102\", \"Bob\", \"2023-11-01\", 2000)]\n",
    "cols = [\"order_id\", \"customer\", \"order_date\", \"amount\"]\n",
    "\n",
    "df = spark.createDataFrame(data, cols)\n",
    "display(df)"
   ]
  },
  {
   "cell_type": "code",
   "execution_count": 0,
   "metadata": {
    "application/vnd.databricks.v1+cell": {
     "cellMetadata": {
      "byteLimit": 2048000,
      "rowLimit": 10000
     },
     "inputWidgets": {},
     "nuid": "1b53c4e7-d44f-41e2-a619-3f49c64a009d",
     "showTitle": false,
     "tableResultSettingsMap": {},
     "title": ""
    }
   },
   "outputs": [],
   "source": [
    "df.write.format('delta').mode('overwrite').saveAsTable('bronze_layer')"
   ]
  },
  {
   "cell_type": "code",
   "execution_count": 0,
   "metadata": {
    "application/vnd.databricks.v1+cell": {
     "cellMetadata": {
      "byteLimit": 2048000,
      "implicitDf": true,
      "rowLimit": 10000
     },
     "inputWidgets": {},
     "nuid": "57d2836f-8d9a-4f32-b421-d7aab1cbfe95",
     "showTitle": false,
     "tableResultSettingsMap": {},
     "title": ""
    }
   },
   "outputs": [],
   "source": [
    "%sql\n",
    "describe history bronze_layer"
   ]
  },
  {
   "cell_type": "markdown",
   "metadata": {
    "application/vnd.databricks.v1+cell": {
     "cellMetadata": {},
     "inputWidgets": {},
     "nuid": "6e5286fb-261f-445f-aa9d-d118ba8dab09",
     "showTitle": false,
     "tableResultSettingsMap": {},
     "title": ""
    }
   },
   "source": [
    "Layers in Architecture (Medallion):\n",
    "\n",
    "Bronze ➝ Raw data\n",
    "\n",
    "Silver ➝ Cleaned + enriched data\n",
    "\n",
    "Gold ➝ Aggregated insights"
   ]
  },
  {
   "cell_type": "code",
   "execution_count": 0,
   "metadata": {
    "application/vnd.databricks.v1+cell": {
     "cellMetadata": {
      "byteLimit": 2048000,
      "rowLimit": 10000
     },
     "inputWidgets": {},
     "nuid": "4eb1e514-0446-4b2c-88cf-fa909fbccd87",
     "showTitle": false,
     "tableResultSettingsMap": {},
     "title": ""
    }
   },
   "outputs": [],
   "source": [
    "# Bronze layer - Ingest from RAW CSV\n",
    "\n",
    "df_raw = spark.read.option(\"header\", True).csv(\"/databricks-datasets/retail-org/customers/\")\n",
    "\n",
    "# Rename duplicate columns\n",
    "for col in df_raw.columns:\n",
    "    if df_raw.columns.count(col) > 1:\n",
    "        df_raw = df_raw.withColumnRenamed(col, col + \"_duplicate\")\n",
    "\n",
    "df_raw.write.format(\"delta\").mode(\"overwrite\").saveAsTable(\"customers1\")\n",
    "display(df_raw)"
   ]
  },
  {
   "cell_type": "markdown",
   "metadata": {
    "application/vnd.databricks.v1+cell": {
     "cellMetadata": {},
     "inputWidgets": {},
     "nuid": "7c4474f4-ad93-42a1-b6c2-56fdb25c4c5e",
     "showTitle": false,
     "tableResultSettingsMap": {},
     "title": ""
    }
   },
   "source": [
    "Silver layer"
   ]
  },
  {
   "cell_type": "code",
   "execution_count": 0,
   "metadata": {
    "application/vnd.databricks.v1+cell": {
     "cellMetadata": {
      "byteLimit": 2048000,
      "rowLimit": 10000
     },
     "inputWidgets": {},
     "nuid": "678f4287-3943-4fb5-aa84-db068ab0188d",
     "showTitle": false,
     "tableResultSettingsMap": {},
     "title": ""
    }
   },
   "outputs": [],
   "source": [
    "# Silver - Clean and Standard - doesn't seem to work on free edition\n",
    "df_bronze = spark.read.format(\"delta\").load(\"/mnt/delta/customers1\")\n",
    "\n",
    "# Display the schema to check the column names\n",
    "df_bronze.printSchema()\n",
    "\n",
    "from pyspark.sql.functions import col, lower, trim\n",
    "\n",
    "# Assuming the correct column name is 'customer_email' instead of 'email'\n",
    "df_silver = df_bronze.withColumn(\"customer_name\", lower(trim(col(\"customer_name\")))) \\\n",
    "                     .dropna(subset=[\"customer_id\", \"customer_name\"])\n",
    "\n",
    "df_silver.write.format(\"delta\").mode(\"overwrite\").saveAsTable(\"customers2\")\n",
    "\n",
    "display(df_silver)"
   ]
  },
  {
   "cell_type": "markdown",
   "metadata": {
    "application/vnd.databricks.v1+cell": {
     "cellMetadata": {},
     "inputWidgets": {},
     "nuid": "e16ae42f-0569-487a-9cb9-a250a4eaf60e",
     "showTitle": false,
     "tableResultSettingsMap": {},
     "title": ""
    }
   },
   "source": [
    "🟡 Gold – Aggregated Insights"
   ]
  },
  {
   "cell_type": "code",
   "execution_count": 0,
   "metadata": {
    "application/vnd.databricks.v1+cell": {
     "cellMetadata": {
      "byteLimit": 2048000,
      "rowLimit": 10000
     },
     "inputWidgets": {},
     "nuid": "51821e4b-0ee0-4af8-b089-14a2697b5893",
     "showTitle": false,
     "tableResultSettingsMap": {},
     "title": ""
    }
   },
   "outputs": [],
   "source": [
    "df_silver = spark.read.format(\"delta\").load(\"/tmp/lakehouse/silver/customers\")\n",
    "\n",
    "df_gold = df_silver.groupBy(\"state\").count()\n",
    "df_gold.write.format(\"delta\").mode(\"overwrite\").saveAsTable(\"customer_summary\")"
   ]
  },
  {
   "cell_type": "code",
   "execution_count": 0,
   "metadata": {
    "application/vnd.databricks.v1+cell": {
     "cellMetadata": {
      "byteLimit": 2048000,
      "implicitDf": true,
      "rowLimit": 10000
     },
     "inputWidgets": {},
     "nuid": "563065d7-a71e-4d88-aac1-2255d71739d2",
     "showTitle": false,
     "tableResultSettingsMap": {},
     "title": ""
    }
   },
   "outputs": [],
   "source": [
    "%sql\n",
    "describe history customer_summary"
   ]
  },
  {
   "cell_type": "code",
   "execution_count": 0,
   "metadata": {
    "application/vnd.databricks.v1+cell": {
     "cellMetadata": {},
     "inputWidgets": {},
     "nuid": "b09a64ff-1364-4860-87ed-21690edec74e",
     "showTitle": false,
     "tableResultSettingsMap": {},
     "title": ""
    }
   },
   "outputs": [],
   "source": []
  }
 ],
 "metadata": {
  "application/vnd.databricks.v1+notebook": {
   "computePreferences": null,
   "dashboards": [],
   "environmentMetadata": {
    "base_environment": "",
    "environment_version": "2"
   },
   "inputWidgetPreferences": null,
   "language": "python",
   "notebookMetadata": {
    "mostRecentlyExecutedCommandWithImplicitDF": {
     "commandId": 4868772953090296,
     "dataframes": [
      "_sqldf"
     ]
    },
    "pythonIndentUnit": 4
   },
   "notebookName": "PySpark-4",
   "widgets": {}
  },
  "language_info": {
   "name": "python"
  }
 },
 "nbformat": 4,
 "nbformat_minor": 0
}
